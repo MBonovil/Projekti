{
 "cells": [
  {
   "cell_type": "markdown",
   "id": "f85054c4-527c-48bc-a0b1-57b5b08656a0",
   "metadata": {},
   "source": [
    "   \r\n",
    "<center>\r\n",
    "\r\n",
    "# OBRADA PRIRODNOG JEZIKA\r\n",
    "## 2023./2024.\r\n",
    "## Projekt - Lematizacija\r\n",
    "#### Marko Bonovil i Marko Burazin\r\n",
    "\r\n",
    "</center>\r\n"
   ]
  },
  {
   "cell_type": "markdown",
   "id": "78da5446-a389-4dbe-b374-ad42d537e43f",
   "metadata": {},
   "source": [
    "# **Librarys**"
   ]
  },
  {
   "cell_type": "code",
   "execution_count": 1,
   "id": "04515825-2172-4d51-b9bf-b130fe65510a",
   "metadata": {},
   "outputs": [
    {
     "name": "stdout",
     "output_type": "stream",
     "text": [
      "Requirement already satisfied: numpy in c:\\users\\mbono\\appdata\\local\\programs\\python\\python311\\lib\\site-packages (1.26.4)\n",
      "Requirement already satisfied: pandas in c:\\users\\mbono\\appdata\\local\\programs\\python\\python311\\lib\\site-packages (2.2.0)\n",
      "Requirement already satisfied: matplotlib in c:\\users\\mbono\\appdata\\local\\programs\\python\\python311\\lib\\site-packages (3.8.3)\n",
      "Requirement already satisfied: seaborn in c:\\users\\mbono\\appdata\\local\\programs\\python\\python311\\lib\\site-packages (0.13.2)\n",
      "Requirement already satisfied: scikit-learn in c:\\users\\mbono\\appdata\\local\\programs\\python\\python311\\lib\\site-packages (1.4.1.post1)\n",
      "Requirement already satisfied: python-dateutil>=2.8.2 in c:\\users\\mbono\\appdata\\local\\programs\\python\\python311\\lib\\site-packages (from pandas) (2.8.2)\n",
      "Requirement already satisfied: pytz>=2020.1 in c:\\users\\mbono\\appdata\\local\\programs\\python\\python311\\lib\\site-packages (from pandas) (2024.1)\n",
      "Requirement already satisfied: tzdata>=2022.7 in c:\\users\\mbono\\appdata\\local\\programs\\python\\python311\\lib\\site-packages (from pandas) (2024.1)\n",
      "Requirement already satisfied: contourpy>=1.0.1 in c:\\users\\mbono\\appdata\\local\\programs\\python\\python311\\lib\\site-packages (from matplotlib) (1.2.0)\n",
      "Requirement already satisfied: cycler>=0.10 in c:\\users\\mbono\\appdata\\local\\programs\\python\\python311\\lib\\site-packages (from matplotlib) (0.12.1)\n",
      "Requirement already satisfied: fonttools>=4.22.0 in c:\\users\\mbono\\appdata\\local\\programs\\python\\python311\\lib\\site-packages (from matplotlib) (4.49.0)\n",
      "Requirement already satisfied: kiwisolver>=1.3.1 in c:\\users\\mbono\\appdata\\local\\programs\\python\\python311\\lib\\site-packages (from matplotlib) (1.4.5)\n",
      "Requirement already satisfied: packaging>=20.0 in c:\\users\\mbono\\appdata\\local\\programs\\python\\python311\\lib\\site-packages (from matplotlib) (23.2)\n",
      "Requirement already satisfied: pillow>=8 in c:\\users\\mbono\\appdata\\local\\programs\\python\\python311\\lib\\site-packages (from matplotlib) (10.2.0)\n",
      "Requirement already satisfied: pyparsing>=2.3.1 in c:\\users\\mbono\\appdata\\local\\programs\\python\\python311\\lib\\site-packages (from matplotlib) (3.1.1)\n",
      "Requirement already satisfied: scipy>=1.6.0 in c:\\users\\mbono\\appdata\\local\\programs\\python\\python311\\lib\\site-packages (from scikit-learn) (1.12.0)\n",
      "Requirement already satisfied: joblib>=1.2.0 in c:\\users\\mbono\\appdata\\local\\programs\\python\\python311\\lib\\site-packages (from scikit-learn) (1.3.2)\n",
      "Requirement already satisfied: threadpoolctl>=2.0.0 in c:\\users\\mbono\\appdata\\local\\programs\\python\\python311\\lib\\site-packages (from scikit-learn) (3.3.0)\n",
      "Requirement already satisfied: six>=1.5 in c:\\users\\mbono\\appdata\\local\\programs\\python\\python311\\lib\\site-packages (from python-dateutil>=2.8.2->pandas) (1.16.0)\n"
     ]
    },
    {
     "name": "stderr",
     "output_type": "stream",
     "text": [
      "\n",
      "[notice] A new release of pip available: 22.3 -> 24.0\n",
      "[notice] To update, run: python.exe -m pip install --upgrade pip\n"
     ]
    }
   ],
   "source": [
    "!pip install numpy pandas matplotlib seaborn scikit-learn"
   ]
  },
  {
   "cell_type": "code",
   "execution_count": 3,
   "id": "f3315d0e-d0a3-4005-b339-2a905ed5f62a",
   "metadata": {},
   "outputs": [],
   "source": [
    "import numpy as np\n",
    "import pandas as pd\n",
    "from io import open\n",
    "import os\n",
    "import re\n",
    "from matplotlib import pyplot as plt\n",
    "import seaborn as sns\n",
    "from sklearn.model_selection import train_test_split"
   ]
  },
  {
   "cell_type": "markdown",
   "id": "c2e2b078-50e0-4781-8b77-4386487a5402",
   "metadata": {},
   "source": [
    "1. [numpy](https://numpy.org/) **(np)**: This library provides support for working with multidimensional arrays or matrices and offers numerous functions for mathematical operations, linear algebra, random number generation, and other numerical operations in Python.\r\n",
    "\r\n",
    "2. [pandas](https://pandas.pydata.org/) **(pd)**: Pandas is a library for data analysis and manipulation. It enables loading, manipulation, and analysis of structured data in the form of DataFrames. Pandas facilitates reading data from various sources such as CSV, Excel, SQL databases, and makes their processing easier.\r\n",
    "\r\n",
    "3. [io](https://docs.python.org/3/library/io.html): This library enables working with input/output operations, including file operations such as working with text files, using various methods for opening, reading, and writing files.\r\n",
    "\r\n",
    "4. [os](https://docs.python.org/3/library/os.html): This library provides functions for interacting with the operating system. It includes operations such as file manipulation, working with directories, and checking the file system.\r\n",
    "\r\n",
    "5. [re](https://docs.python.org/3/library/re.html): Re (Regular Expression) is a library for processing regular expressions in Python. It allows searching and manipulating textual data using specific patterns or regular expressions.\r\n",
    "\r\n",
    "6. [matplotlib.pyplot](https://matplotlib.org/3.5.3/api/_as_gen/matplotlib.pyplot.html) **(plt)**: Matplotlib is a library for data visualization in Python. The Pyplot module provides an interface similar to MATLAB for creating various types of graphs, such as line plots, histograms, scatter plots, and other types of graphs.\r\n",
    "\r\n",
    "7. [seaborn](https://seaborn.pydata.org/) **(sns)**: Seaborn is a data visualization library based on Matplotlib. It provides simple methods for creating attractive and informative statistical graphs.\r\n",
    "\r\n",
    "8. [sklearn.model_selection.train_test_split](https://scikit-learn.org/stable/modules/generated/sklearn.model_selection.train_test_split.html): This function comes from the Scikit-learn (sklearn) package, which is a library for machine learning in Python. This function is used to split the dataset into training and testing sets to evaluate the performance of machine learning models."
   ]
  },
  {
   "cell_type": "markdown",
   "id": "de5808f4-1693-43c4-b804-f01c48fc44af",
   "metadata": {},
   "source": [
    "This command uses the Git version control tool to clone all contents from the repository named \"hr500k\" from the GitHub platform and places them into a local directory."
   ]
  },
  {
   "cell_type": "code",
   "execution_count": 5,
   "id": "b96ff30e-cc80-436a-8bec-fa1ee40fdcf0",
   "metadata": {},
   "outputs": [
    {
     "name": "stderr",
     "output_type": "stream",
     "text": [
      "Cloning into 'hr500k'...\n"
     ]
    }
   ],
   "source": [
    "!git clone https://github.com/reldi-data/hr500k.git"
   ]
  },
  {
   "cell_type": "markdown",
   "id": "db2f3166-08d7-49d4-9239-d9918927ad83",
   "metadata": {},
   "source": [
    "The file hr500k.conllup, which represents the dataset used in this project, is located at the path folder_path initialized by the following command."
   ]
  },
  {
   "cell_type": "code",
   "execution_count": 4,
   "id": "d7f8b0c2-0164-4cf6-bb6a-c81de07fc7fc",
   "metadata": {},
   "outputs": [],
   "source": [
    "folder_path = 'D:\\OPJ_Projekt\\hr500k/hr500k.conllup' #path to dataset"
   ]
  },
  {
   "cell_type": "markdown",
   "id": "2298056f-2be3-4c0b-837c-60a094cf129c",
   "metadata": {},
   "source": [
    "# **Loading the dataset**"
   ]
  },
  {
   "cell_type": "markdown",
   "id": "95d8e0d1-749b-4f11-ad0d-d462cb37cea1",
   "metadata": {},
   "source": [
    "**Fromat:**\r\n",
    ">The data used in the project are stored in a file called hr500k with the extension .conllup. Files with this extension are text files that contain data in the [CoNNL-U](https://universaldependencies.org/format.html) format. This format was used to represent annotated linguistic data, especially for marking grammatical tags in textual data.\r\n",
    "\r\n",
    "**hr500k:**\r\n",
    "> hr500k represents a set of textual data in the Croatian language that is used in the area\r\n",
    "natural language processing (NLP) and machine learning research. The corpus contains different species\r\n",
    "texts, including news, blogs, articles, forum posts, reviews and the like.\r\n",
    "It consists of the following columns:\r\n",
    "\r\n",
    "\r\n",
    ">1. **ID** : sentence-local word index\r\n",
    ">2. **FORM** : token, i.e. word form or punctuation symbol\r\n",
    ">3. **LEMMA** : lemma of word form\r\n",
    ">4. **UPOS** : Universal Part of Speech tag.\r\n",
    ">5. **XPOS** : Language-specific Part of Speech tag.\r\n",
    ">6. **FEATS** : Morphological features.\r\n",
    ">7. **HEAD** : ID of the head token in the sentence.\r\n",
    ">8. **DEPREL** : dependency relation (head, label) ac-cording to the UDv2 formalism\r\n",
    ">9. **DEPS** : Enhanced dependency graph in the CoNLL-U format.\r\n",
    ">10. **MISC** : Miscellaneous information.\r\n",
    ">11. **RELDI:NE** : Relative identifier for Named Entity relations.\r\n",
    ">12. **RELDI:DP** : Relative identifier for Dependency Parsing relations.\r\n",
    ">13. **RELDI:SRL** : Relative identifier for Semantic Role Labeling relations.\r\n",
    ">14. **PARSEME:MWE** : Multi-Word Expression label from the ParSEME project.\r\n",
    ">15. **RELDI:MISC** : Miscellaneous relation identifiers."
   ]
  },
  {
   "cell_type": "markdown",
   "id": "4c5bfa8b-2d26-47db-810f-aef827aba8e1",
   "metadata": {},
   "source": [
    "# **Dataset analysis and preprocessing**"
   ]
  },
  {
   "cell_type": "markdown",
   "id": "737873af-1995-4bb6-948f-8ebb5797cd14",
   "metadata": {},
   "source": [
    "**First overview of the data**\r\n",
    ">After loading the directory from GitHub, it is necessary to organize the data in a way that will\r\n",
    "be more suitable for viewing the data structure. The function **read_data()** is defined\r\n",
    "in such a way that it receives a path to a file and reads data from that file.\r\n",
    "The empty variables sent_id, text, tokens, lemmas, xpos_tags,\r\n",
    "upos_tags, feats and iob_tags. These variables represent the columns in the corpus, and are used\r\n",
    "only the indicated markings in order to observe the basic structure of the corpus.\r\n",
    "After the entire file is read, the data is packed into a dictionary.\r\n",
    "At the end, the data of the last sentence that was read is returned, after which the function ends."
   ]
  },
  {
   "cell_type": "code",
   "execution_count": 5,
   "id": "efbb3078-5633-427f-a14b-22e1017c962a",
   "metadata": {},
   "outputs": [],
   "source": [
    "def read_data(path):\n",
    "  with open(path, \"r\", encoding='utf-8') as f: # Open file specified by the path in read mode with UTF-8 encoding\n",
    "    # Initializing variables to store data\n",
    "    sent_id = ''  # Sentence ID\n",
    "    text = ''  # Sentence text\n",
    "    tokens = []  # List of tokens\n",
    "    lemmas = []  # List of token lemmas\n",
    "    xpos_tags = []  # List of Part-of-Speech tags\n",
    "    upos_tags = []  # List of Universal Part-of-Speech tags\n",
    "    feats = []  # List of morphological features\n",
    "    iob_tags = []  # List of Inside-Outside-Begin tags\n",
    "    data_id = 0  # Data ID\n",
    "\n",
    "    # Iterating through lines in the file\n",
    "    for line in f:\n",
    "      # Checking if line exists and is not empty\n",
    "      if line and not line == '\\n':\n",
    "        # Checking if line starts with #\n",
    "        if line.startswith('#'):\n",
    "          # Checking if line starts with # sent_id\n",
    "          if line.startswith('# sent_id'):\n",
    "            # Checking if list of tokens is not empty\n",
    "            if tokens:\n",
    "              # Returning data for the previous sentence\n",
    "              yield {\n",
    "                  'sent_id': sent_id,\n",
    "                  'text': text,\n",
    "                  'tokens': tokens,\n",
    "                  'lemmas': lemmas,\n",
    "                  'upos_tags': upos_tags,\n",
    "                  'xpos_tags': xpos_tags,\n",
    "                  'feats': feats,\n",
    "                  'iob_tags': iob_tags\n",
    "                  }\n",
    "              # Resetting lists for the next sentence\n",
    "              tokens = []\n",
    "              lemmas = []\n",
    "              upos_tags = []\n",
    "              xpos_tags = []\n",
    "              feats = []\n",
    "              iob_tags = []\n",
    "              # Incrementing data ID\n",
    "              data_id += 1\n",
    "            # Extracting sent_id from the line and removing whitespace\n",
    "            sent_id = line.split(' = ')[1].strip()\n",
    "          # Checking if line starts with # text\n",
    "          elif line.startswith('# text'):\n",
    "            # Extracting sentence text from the line and removing whitespace\n",
    "            text = line.split(' = ')[1].strip()\n",
    "        # If line does not start with _ (not indicating a token), then process data\n",
    "        elif not line.startswith('_'):\n",
    "          # Splitting token data based on tabulator\n",
    "          splits = line.split('\\t')\n",
    "          # Adding data to respective lists\n",
    "          tokens.append(splits[1].strip())\n",
    "          lemmas.append(splits[2].strip())\n",
    "          upos_tags.append(splits[3].strip())\n",
    "          xpos_tags.append(splits[4].strip())\n",
    "          feats.append(splits[5].strip())\n",
    "          iob_tags.append(splits[9].strip())\n",
    "\n",
    "    # Returning data for the last sentence\n",
    "    yield {\n",
    "        'sent_id': sent_id,\n",
    "        'text': text,\n",
    "        'tokens': tokens,\n",
    "        'lemmas': lemmas,\n",
    "        'upos_tags': upos_tags,\n",
    "        'xpos_tags': xpos_tags,\n",
    "        'feats': feats,\n",
    "        'iob_tags': iob_tags\n",
    "        }\n"
   ]
  },
  {
   "cell_type": "markdown",
   "id": "33451d6d-05d0-4d32-8889-9e09f6b5b13d",
   "metadata": {},
   "source": [
    "We print the first five sentences in the corpus with the corresponding divisions so that it is easier to present the structure of the data"
   ]
  },
  {
   "cell_type": "code",
   "execution_count": 6,
   "id": "3b165c85-056b-4ece-b255-93a529cb4ee3",
   "metadata": {},
   "outputs": [
    {
     "name": "stdout",
     "output_type": "stream",
     "text": [
      "{'sent_id': 'set.hr-s1', 'text': 'Proces privatizacije na Kosovu pod povećalom', 'tokens': ['Proces', 'privatizacije', 'na', 'Kosovu', 'pod', 'povećalom'], 'lemmas': ['proces', 'privatizacija', 'na', 'Kosovo', 'pod', 'povećalo'], 'upos_tags': ['NOUN', 'NOUN', 'ADP', 'PROPN', 'ADP', 'NOUN'], 'xpos_tags': ['Ncmsn', 'Ncfsg', 'Sl', 'Npnsl', 'Si', 'Ncnsi'], 'feats': ['Case=Nom|Gender=Masc|Number=Sing', 'Case=Gen|Gender=Fem|Number=Sing', 'Case=Loc', 'Case=Loc|Gender=Neut|Number=Sing', 'Case=Ins', 'Case=Ins|Gender=Neut|Number=Sing'], 'iob_tags': ['_', '_', '_', 'NamedEntity=Yes', '_', '_']}\n",
      "{'sent_id': 'set.hr-s2', 'text': 'Kosovo ozbiljno analizira proces privatizacije u svjetlu učestalih pritužbi.', 'tokens': ['Kosovo', 'ozbiljno', 'analizira', 'proces', 'privatizacije', 'u', 'svjetlu', 'učestalih', 'pritužbi', '.'], 'lemmas': ['Kosovo', 'ozbiljno', 'analizirati', 'proces', 'privatizacija', 'u', 'svjetlo', 'učestao', 'pritužba', '.'], 'upos_tags': ['PROPN', 'ADV', 'VERB', 'NOUN', 'NOUN', 'ADP', 'NOUN', 'ADJ', 'NOUN', 'PUNCT'], 'xpos_tags': ['Npnsn', 'Rgp', 'Vmr3s', 'Ncmsan', 'Ncfsg', 'Sl', 'Ncnsl', 'Agpfpgy', 'Ncfpg', 'Z'], 'feats': ['Case=Nom|Gender=Neut|Number=Sing', 'Degree=Pos', 'Mood=Ind|Number=Sing|Person=3|Tense=Pres|VerbForm=Fin', 'Animacy=Inan|Case=Acc|Gender=Masc|Number=Sing', 'Case=Gen|Gender=Fem|Number=Sing', 'Case=Loc', 'Case=Loc|Gender=Neut|Number=Sing', 'Case=Gen|Definite=Def|Degree=Pos|Gender=Fem|Number=Plur', 'Case=Gen|Gender=Fem|Number=Plur', '_'], 'iob_tags': ['NamedEntity=Yes', '_', '_', '_', '_', '_', '_', '_', 'SpaceAfter=No', '_']}\n",
      "{'sent_id': 'set.hr-s3', 'text': 'Feronikel je privatiziran prije pet godina i još uvijek posluje, ali u ozračju zabrinutosti za sigurnost radnika.', 'tokens': ['Feronikel', 'je', 'privatiziran', 'prije', 'pet', 'godina', 'i', 'još', 'uvijek', 'posluje', ',', 'ali', 'u', 'ozračju', 'zabrinutosti', 'za', 'sigurnost', 'radnika', '.'], 'lemmas': ['Feronikel', 'biti', 'privatizirati', 'prije', 'pet', 'godina', 'i', 'još', 'uvijek', 'poslovati', ',', 'ali', 'u', 'ozračje', 'zabrinutost', 'za', 'sigurnost', 'radnik', '.'], 'upos_tags': ['PROPN', 'AUX', 'ADJ', 'ADP', 'NUM', 'NOUN', 'CCONJ', 'ADV', 'ADV', 'VERB', 'PUNCT', 'CCONJ', 'ADP', 'NOUN', 'NOUN', 'ADP', 'NOUN', 'NOUN', 'PUNCT'], 'xpos_tags': ['Npmsn', 'Var3s', 'Appmsnn', 'Sg', 'Mlc', 'Ncfpg', 'Cc', 'Rgp', 'Rgp', 'Vmr3s', 'Z', 'Cc', 'Sl', 'Ncnsl', 'Ncfsg', 'Sa', 'Ncfsa', 'Ncmpg', 'Z'], 'feats': ['Case=Nom|Gender=Masc|Number=Sing', 'Mood=Ind|Number=Sing|Person=3|Tense=Pres|VerbForm=Fin', 'Case=Nom|Definite=Ind|Degree=Pos|Gender=Masc|Number=Sing|VerbForm=Part|Voice=Pass', 'Case=Gen', 'NumType=Card', 'Case=Gen|Gender=Fem|Number=Plur', '_', 'Degree=Pos', 'Degree=Pos|PronType=Tot', 'Mood=Ind|Number=Sing|Person=3|Tense=Pres|VerbForm=Fin', '_', '_', 'Case=Loc', 'Case=Loc|Gender=Neut|Number=Sing', 'Case=Gen|Gender=Fem|Number=Sing', 'Case=Acc', 'Case=Acc|Gender=Fem|Number=Sing', 'Case=Gen|Gender=Masc|Number=Plur', '_'], 'iob_tags': ['NamedEntity=Yes', '_', '_', '_', '_', '_', '_', '_', '_', 'SpaceAfter=No', '_', '_', '_', '_', '_', '_', '_', 'SpaceAfter=No', '_']}\n",
      "{'sent_id': 'set.hr-s4', 'text': 'Barem na papiru, izgleda kao odlična ideja.', 'tokens': ['Barem', 'na', 'papiru', ',', 'izgleda', 'kao', 'odlična', 'ideja', '.'], 'lemmas': ['barem', 'na', 'papir', ',', 'izgledati', 'kao', 'odličan', 'ideja', '.'], 'upos_tags': ['PART', 'ADP', 'NOUN', 'PUNCT', 'VERB', 'SCONJ', 'ADJ', 'NOUN', 'PUNCT'], 'xpos_tags': ['Qo', 'Sl', 'Ncmsl', 'Z', 'Vmr3s', 'Cs', 'Agpfsny', 'Ncfsn', 'Z'], 'feats': ['_', 'Case=Loc', 'Case=Loc|Gender=Masc|Number=Sing', '_', 'Mood=Ind|Number=Sing|Person=3|Tense=Pres|VerbForm=Fin', '_', 'Case=Nom|Definite=Def|Degree=Pos|Gender=Fem|Number=Sing', 'Case=Nom|Gender=Fem|Number=Sing', '_'], 'iob_tags': ['_', '_', 'SpaceAfter=No', '_', '_', '_', '_', 'SpaceAfter=No', '_']}\n",
      "{'sent_id': 'set.hr-s5', 'text': 'Vlada prodaje poduzeća, rješava se opterećenja njihovog upravljanja, a novac od prodaje pomaže punjenju državnog proračuna.', 'tokens': ['Vlada', 'prodaje', 'poduzeća', ',', 'rješava', 'se', 'opterećenja', 'njihovog', 'upravljanja', ',', 'a', 'novac', 'od', 'prodaje', 'pomaže', 'punjenju', 'državnog', 'proračuna', '.'], 'lemmas': ['Vlada', 'prodavati', 'poduzeće', ',', 'rješavati', 'sebe', 'opterećenje', 'njihov', 'upravljanje', ',', 'a', 'novac', 'od', 'prodaja', 'pomagati', 'punjenje', 'državni', 'proračun', '.'], 'upos_tags': ['PROPN', 'VERB', 'NOUN', 'PUNCT', 'VERB', 'PRON', 'NOUN', 'DET', 'NOUN', 'PUNCT', 'CCONJ', 'NOUN', 'ADP', 'NOUN', 'VERB', 'NOUN', 'ADJ', 'NOUN', 'PUNCT'], 'xpos_tags': ['Npfsn', 'Vmr3s', 'Ncnpa', 'Z', 'Vmr3s', 'Px--sa', 'Ncnsg', 'Ps3nsg', 'Ncnsg', 'Z', 'Cc', 'Ncmsn', 'Sg', 'Ncfsg', 'Vmr3s', 'Ncnsd', 'Agpmsgy', 'Ncmsg', 'Z'], 'feats': ['Case=Nom|Gender=Fem|Number=Sing', 'Mood=Ind|Number=Sing|Person=3|Tense=Pres|VerbForm=Fin', 'Case=Acc|Gender=Neut|Number=Plur', '_', 'Mood=Ind|Number=Sing|Person=3|Tense=Pres|VerbForm=Fin', 'Case=Acc|PronType=Prs|Reflex=Yes', 'Case=Gen|Gender=Neut|Number=Sing', 'Case=Gen|Gender=Neut|Number=Sing|Number[psor]=Plur|Person=3|Poss=Yes|PronType=Prs', 'Case=Gen|Gender=Neut|Number=Sing', '_', '_', 'Case=Nom|Gender=Masc|Number=Sing', 'Case=Gen', 'Case=Gen|Gender=Fem|Number=Sing', 'Mood=Ind|Number=Sing|Person=3|Tense=Pres|VerbForm=Fin', 'Case=Dat|Gender=Neut|Number=Sing', 'Case=Gen|Definite=Def|Degree=Pos|Gender=Masc|Number=Sing', 'Case=Gen|Gender=Masc|Number=Sing', '_'], 'iob_tags': ['_', '_', 'SpaceAfter=No', '_', '_', '_', '_', '_', 'SpaceAfter=No', '_', '_', '_', '_', '_', '_', '_', '_', 'SpaceAfter=No', '_']}\n"
     ]
    }
   ],
   "source": [
    "data = read_data(folder_path)  # Reads data from the data specified by folder_path\n",
    "for i in range(5):  # Loop that executes five times\n",
    "    d = next(data)  # Retrieves the next element from the data iterator\n",
    "    print(d)  # Prints the current element"
   ]
  },
  {
   "cell_type": "code",
   "execution_count": 7,
   "id": "c69ec261-fcc8-4658-890a-9d9640e8b838",
   "metadata": {},
   "outputs": [],
   "source": [
    "data = read_data(folder_path)"
   ]
  },
  {
   "cell_type": "code",
   "execution_count": 8,
   "id": "28c2e8a8-1bfc-4080-a3fc-595c375c8db1",
   "metadata": {},
   "outputs": [],
   "source": [
    "X = []  # List to store tokens\n",
    "for d in data:  # Iterating through each data element\n",
    "    X.append(d[\"tokens\"])  # Appending tokens of current data element to X"
   ]
  },
  {
   "cell_type": "code",
   "execution_count": 9,
   "id": "c16a805a-fb2b-462d-aa66-5afa61bebdab",
   "metadata": {},
   "outputs": [],
   "source": [
    "tokens = set([word.lower() for sentence in X for word in sentence]) # Generating a set of unique tokens by converting all words to lowercase in each token sentence in X\n",
    "num_tokens = len(tokens) # Counting the number of unique tokens"
   ]
  },
  {
   "cell_type": "code",
   "execution_count": 10,
   "id": "f3076383-bc3a-4387-b25d-f15ec4b31fa1",
   "metadata": {},
   "outputs": [
    {
     "name": "stdout",
     "output_type": "stream",
     "text": [
      "Total number of marked sentences: 24763\n",
      "Dictionary size: 66724 words\n"
     ]
    }
   ],
   "source": [
    "print(\"Total number of marked sentences: {}\".format(len(X)))\n",
    "print(\"Dictionary size: {} words\".format(num_tokens))"
   ]
  },
  {
   "cell_type": "markdown",
   "id": "a2e48543-c8f1-4bcd-8af5-6186ad4d806a",
   "metadata": {},
   "source": [
    "Within the hr500k.conllup corpus, we have a total of 24763 sentences, and the number of tokens from which these sentences are composed\r\n",
    "is 66724. The next step is to load the corpus into a DataFrame for easier data analysis and preprocessing.\r\n",
    "We will load sentences, tokens and lemmatization labels of individual tokens into the DataFrame."
   ]
  },
  {
   "cell_type": "code",
   "execution_count": 11,
   "id": "f3b3c442-95a8-4213-9205-cbb726acecd6",
   "metadata": {},
   "outputs": [],
   "source": [
    "def load_conllup_file(file_path):\n",
    "    with open(file_path, 'r', encoding='utf-8') as file:  # Load the file hr500k.conllup and read its content\n",
    "      lines = file.readlines()\n",
    "\n",
    "    sentences = []  # Create an empty list for sentences\n",
    "    current_sentence = {'tokens': [], 'lemmas': []} # Initialize an empty dictionary for the current sentence\n",
    "\n",
    "    for line in lines:  # Iterate through each line in the file\n",
    "        line = line.strip()\n",
    "        if line.startswith('# sent_id'):  # Check if the line marks the beginning of a new sentence or contains text information\n",
    "            if current_sentence['tokens']:\n",
    "                sentences.append(current_sentence)  # If the end of the current sentence is found, it is added to the list of sentences\n",
    "            current_sentence = {'tokens': [], 'lemmas': []} # Initialize a new dictionary for the next sentence\n",
    "        elif line.startswith('# text'):\n",
    "            current_sentence['text'] = line.split('=')[1].strip() # Extract text information from the line\n",
    "        elif line and not line.startswith('#'):\n",
    "            # Extract 'tokens' and 'lemmas' from the line and add them to the current sentence\n",
    "            parts = line.split('\\t')\n",
    "            current_sentence['tokens'].append(parts[1])\n",
    "            current_sentence['lemmas'].append(parts[2])\n",
    "\n",
    "    # Add the last sentence to the list of sentences\n",
    "    if current_sentence['tokens']:\n",
    "        sentences.append(current_sentence)\n",
    "\n",
    "    return sentences"
   ]
  },
  {
   "cell_type": "code",
   "execution_count": 12,
   "id": "01377ba3-607f-45b4-abde-2ba2aeb6131e",
   "metadata": {},
   "outputs": [],
   "source": [
    "def create_dataframe(sentences):\n",
    "    data = {'Sentence': [], 'Tokens': [], 'Lemas': []}  # Create a data dictionary for each sentence\n",
    "\n",
    "    for sentence in sentences:  # Iterate through each sentence and add data to the dictionary\n",
    "        data['Sentence'].append(sentence['text'])  # Add the sentence text to the dictionary\n",
    "        data['Tokens'].append(sentence['tokens'])  # Add the tokens of the sentence to the dictionary\n",
    "        data['Lemas'].append(sentence['lemmas'])     # Add the lemmas of the sentence to the dictionary\n",
    "    df = pd.DataFrame(data) # Create a DataFrame from the data dictionary\n",
    "    return df"
   ]
  },
  {
   "cell_type": "code",
   "execution_count": 13,
   "id": "a0e8295e-8ad2-4168-8c5a-772e5352169a",
   "metadata": {},
   "outputs": [],
   "source": [
    "sentences = load_conllup_file(folder_path)  #Uploading a file"
   ]
  },
  {
   "cell_type": "code",
   "execution_count": 14,
   "id": "e0e8444b-3aee-423f-9428-2c2e759bc6c5",
   "metadata": {},
   "outputs": [
    {
     "name": "stdout",
     "output_type": "stream",
     "text": [
      "                                            Sentence  \\\n",
      "0       Proces privatizacije na Kosovu pod povećalom   \n",
      "1  Kosovo ozbiljno analizira proces privatizacije...   \n",
      "2  Feronikel je privatiziran prije pet godina i j...   \n",
      "3        Barem na papiru, izgleda kao odlična ideja.   \n",
      "4  Vlada prodaje poduzeća, rješava se opterećenja...   \n",
      "\n",
      "                                              Tokens  \\\n",
      "0  [Proces, privatizacije, na, Kosovu, pod, poveć...   \n",
      "1  [Kosovo, ozbiljno, analizira, proces, privatiz...   \n",
      "2  [Feronikel, je, privatiziran, prije, pet, godi...   \n",
      "3  [Barem, na, papiru, ,, izgleda, kao, odlična, ...   \n",
      "4  [Vlada, prodaje, poduzeća, ,, rješava, se, opt...   \n",
      "\n",
      "                                               Lemas  \n",
      "0  [proces, privatizacija, na, Kosovo, pod, poveć...  \n",
      "1  [Kosovo, ozbiljno, analizirati, proces, privat...  \n",
      "2  [Feronikel, biti, privatizirati, prije, pet, g...  \n",
      "3  [barem, na, papir, ,, izgledati, kao, odličan,...  \n",
      "4  [Vlada, prodavati, poduzeće, ,, rješavati, seb...  \n"
     ]
    }
   ],
   "source": [
    "df = create_dataframe(sentences)  # Creating a DataFrame\n",
    "print(df.head())"
   ]
  },
  {
   "cell_type": "code",
   "execution_count": 15,
   "id": "7f08576c-8242-4cda-af7f-49e42da06ba6",
   "metadata": {},
   "outputs": [
    {
     "data": {
      "text/html": [
       "<div>\n",
       "<style scoped>\n",
       "    .dataframe tbody tr th:only-of-type {\n",
       "        vertical-align: middle;\n",
       "    }\n",
       "\n",
       "    .dataframe tbody tr th {\n",
       "        vertical-align: top;\n",
       "    }\n",
       "\n",
       "    .dataframe thead th {\n",
       "        text-align: right;\n",
       "    }\n",
       "</style>\n",
       "<table border=\"1\" class=\"dataframe\">\n",
       "  <thead>\n",
       "    <tr style=\"text-align: right;\">\n",
       "      <th></th>\n",
       "      <th>Sentence</th>\n",
       "      <th>Tokens</th>\n",
       "      <th>Lemas</th>\n",
       "    </tr>\n",
       "  </thead>\n",
       "  <tbody>\n",
       "    <tr>\n",
       "      <th>0</th>\n",
       "      <td>Proces privatizacije na Kosovu pod povećalom</td>\n",
       "      <td>[Proces, privatizacije, na, Kosovu, pod, poveć...</td>\n",
       "      <td>[proces, privatizacija, na, Kosovo, pod, poveć...</td>\n",
       "    </tr>\n",
       "    <tr>\n",
       "      <th>1</th>\n",
       "      <td>Kosovo ozbiljno analizira proces privatizacije...</td>\n",
       "      <td>[Kosovo, ozbiljno, analizira, proces, privatiz...</td>\n",
       "      <td>[Kosovo, ozbiljno, analizirati, proces, privat...</td>\n",
       "    </tr>\n",
       "    <tr>\n",
       "      <th>2</th>\n",
       "      <td>Feronikel je privatiziran prije pet godina i j...</td>\n",
       "      <td>[Feronikel, je, privatiziran, prije, pet, godi...</td>\n",
       "      <td>[Feronikel, biti, privatizirati, prije, pet, g...</td>\n",
       "    </tr>\n",
       "    <tr>\n",
       "      <th>3</th>\n",
       "      <td>Barem na papiru, izgleda kao odlična ideja.</td>\n",
       "      <td>[Barem, na, papiru, ,, izgleda, kao, odlična, ...</td>\n",
       "      <td>[barem, na, papir, ,, izgledati, kao, odličan,...</td>\n",
       "    </tr>\n",
       "    <tr>\n",
       "      <th>4</th>\n",
       "      <td>Vlada prodaje poduzeća, rješava se opterećenja...</td>\n",
       "      <td>[Vlada, prodaje, poduzeća, ,, rješava, se, opt...</td>\n",
       "      <td>[Vlada, prodavati, poduzeće, ,, rješavati, seb...</td>\n",
       "    </tr>\n",
       "    <tr>\n",
       "      <th>...</th>\n",
       "      <td>...</td>\n",
       "      <td>...</td>\n",
       "      <td>...</td>\n",
       "    </tr>\n",
       "    <tr>\n",
       "      <th>24758</th>\n",
       "      <td>Estetska ograničenja nadoknađuju i izvrsna gla...</td>\n",
       "      <td>[Estetska, ograničenja, nadoknađuju, i, izvrsn...</td>\n",
       "      <td>[estetski, ograničenje, nadoknađivati, i, izvr...</td>\n",
       "    </tr>\n",
       "    <tr>\n",
       "      <th>24759</th>\n",
       "      <td>Undertale je igra koja savršeno poznaje svoju ...</td>\n",
       "      <td>[Undertale, je, igra, koja, savršeno, poznaje,...</td>\n",
       "      <td>[Undertale, biti, igra, koji, savršeno, poznav...</td>\n",
       "    </tr>\n",
       "    <tr>\n",
       "      <th>24760</th>\n",
       "      <td>Teško je bez velikog spojlanja objasniti kolik...</td>\n",
       "      <td>[Teško, je, bez, velikog, spojlanja, objasniti...</td>\n",
       "      <td>[teško, biti, bez, velik, spojlanje, objasniti...</td>\n",
       "    </tr>\n",
       "    <tr>\n",
       "      <th>24761</th>\n",
       "      <td>Ona jednostavno priča svoju priču na način koj...</td>\n",
       "      <td>[Ona, jednostavno, priča, svoju, priču, na, na...</td>\n",
       "      <td>[on, jednostavno, pričati, svoj, priča, na, na...</td>\n",
       "    </tr>\n",
       "    <tr>\n",
       "      <th>24762</th>\n",
       "      <td>Radi se o majstorski osmišljenom i izrađenom i...</td>\n",
       "      <td>[Radi, se, o, majstorski, osmišljenom, i, izra...</td>\n",
       "      <td>[raditi, sebe, o, majstorski, osmisliti, i, iz...</td>\n",
       "    </tr>\n",
       "  </tbody>\n",
       "</table>\n",
       "<p>24763 rows × 3 columns</p>\n",
       "</div>"
      ],
      "text/plain": [
       "                                                Sentence  \\\n",
       "0           Proces privatizacije na Kosovu pod povećalom   \n",
       "1      Kosovo ozbiljno analizira proces privatizacije...   \n",
       "2      Feronikel je privatiziran prije pet godina i j...   \n",
       "3            Barem na papiru, izgleda kao odlična ideja.   \n",
       "4      Vlada prodaje poduzeća, rješava se opterećenja...   \n",
       "...                                                  ...   \n",
       "24758  Estetska ograničenja nadoknađuju i izvrsna gla...   \n",
       "24759  Undertale je igra koja savršeno poznaje svoju ...   \n",
       "24760  Teško je bez velikog spojlanja objasniti kolik...   \n",
       "24761  Ona jednostavno priča svoju priču na način koj...   \n",
       "24762  Radi se o majstorski osmišljenom i izrađenom i...   \n",
       "\n",
       "                                                  Tokens  \\\n",
       "0      [Proces, privatizacije, na, Kosovu, pod, poveć...   \n",
       "1      [Kosovo, ozbiljno, analizira, proces, privatiz...   \n",
       "2      [Feronikel, je, privatiziran, prije, pet, godi...   \n",
       "3      [Barem, na, papiru, ,, izgleda, kao, odlična, ...   \n",
       "4      [Vlada, prodaje, poduzeća, ,, rješava, se, opt...   \n",
       "...                                                  ...   \n",
       "24758  [Estetska, ograničenja, nadoknađuju, i, izvrsn...   \n",
       "24759  [Undertale, je, igra, koja, savršeno, poznaje,...   \n",
       "24760  [Teško, je, bez, velikog, spojlanja, objasniti...   \n",
       "24761  [Ona, jednostavno, priča, svoju, priču, na, na...   \n",
       "24762  [Radi, se, o, majstorski, osmišljenom, i, izra...   \n",
       "\n",
       "                                                   Lemas  \n",
       "0      [proces, privatizacija, na, Kosovo, pod, poveć...  \n",
       "1      [Kosovo, ozbiljno, analizirati, proces, privat...  \n",
       "2      [Feronikel, biti, privatizirati, prije, pet, g...  \n",
       "3      [barem, na, papir, ,, izgledati, kao, odličan,...  \n",
       "4      [Vlada, prodavati, poduzeće, ,, rješavati, seb...  \n",
       "...                                                  ...  \n",
       "24758  [estetski, ograničenje, nadoknađivati, i, izvr...  \n",
       "24759  [Undertale, biti, igra, koji, savršeno, poznav...  \n",
       "24760  [teško, biti, bez, velik, spojlanje, objasniti...  \n",
       "24761  [on, jednostavno, pričati, svoj, priča, na, na...  \n",
       "24762  [raditi, sebe, o, majstorski, osmisliti, i, iz...  \n",
       "\n",
       "[24763 rows x 3 columns]"
      ]
     },
     "execution_count": 15,
     "metadata": {},
     "output_type": "execute_result"
    }
   ],
   "source": [
    "df"
   ]
  },
  {
   "cell_type": "code",
   "execution_count": 16,
   "id": "82c0057d-77fd-449b-907c-74c35add43e5",
   "metadata": {},
   "outputs": [
    {
     "data": {
      "text/plain": [
       "'Barem na papiru, izgleda kao odlična ideja.'"
      ]
     },
     "execution_count": 16,
     "metadata": {},
     "output_type": "execute_result"
    }
   ],
   "source": [
    "df['Sentence'][3]"
   ]
  },
  {
   "cell_type": "code",
   "execution_count": 17,
   "id": "2487c14b-ed5e-4fe8-ba91-3217c16f9ba8",
   "metadata": {},
   "outputs": [
    {
     "data": {
      "text/plain": [
       "['Barem', 'na', 'papiru', ',', 'izgleda', 'kao', 'odlična', 'ideja', '.']"
      ]
     },
     "execution_count": 17,
     "metadata": {},
     "output_type": "execute_result"
    }
   ],
   "source": [
    "df['Tokens'][3]"
   ]
  },
  {
   "cell_type": "code",
   "execution_count": 18,
   "id": "8ca61def-eab9-407e-bac5-de46afe4cbb9",
   "metadata": {},
   "outputs": [
    {
     "data": {
      "text/plain": [
       "['barem', 'na', 'papir', ',', 'izgledati', 'kao', 'odličan', 'ideja', '.']"
      ]
     },
     "execution_count": 18,
     "metadata": {},
     "output_type": "execute_result"
    }
   ],
   "source": [
    "df['Lemas'][3]"
   ]
  },
  {
   "cell_type": "markdown",
   "id": "9645186f-f31f-4908-bcf6-7c97de7ff9ad",
   "metadata": {},
   "source": [
    "It can be seen that the 'Tokens' and 'Lemas' columns contain punctuation marks such as { '.'  ',' } and similar\r\n",
    "therefore, in data preprocessing we will remove punctuation marks and reshape letters\r\n",
    "so that all letters in the corpus are lowercase."
   ]
  },
  {
   "cell_type": "code",
   "execution_count": 19,
   "id": "3fc62c0d-0771-4369-8924-37f275b06f22",
   "metadata": {},
   "outputs": [],
   "source": [
    "def preprocess_text(text_list):\n",
    "    processed_texts = []  # List for processed texts\n",
    "    for text in text_list:\n",
    "        processed_text = []  # List for processed text\n",
    "        inside_quotes = False  # To track if we are inside quotes\n",
    "        for element in text:\n",
    "            if \"'\" in element:\n",
    "                inside_quotes = not inside_quotes  # Handling inside quotes\n",
    "            # Replace marked words (words enclosed in apostrophes) with empty space\n",
    "            element = re.sub(r\"'[^.,!?']*'\", ' ', element)\n",
    "            # Convert uppercase letters to lowercase\n",
    "            element = element.lower()\n",
    "            # Remove all characters that are not letters, numbers, or spaces, but keep diacritics\n",
    "            element = re.sub(r\"[^a-zA-Z0-9 ČčĆćDždžĐđŠšŽž]+\", '', element)\n",
    "            if element.strip():\n",
    "                processed_text.append(element)  # Adding processed text to the list\n",
    "        processed_texts.append(processed_text)  # Adding processed text to the list of processed texts\n",
    "    return processed_texts"
   ]
  },
  {
   "cell_type": "markdown",
   "id": "c79de236-8162-4b2e-be32-a3aa1c6962db",
   "metadata": {},
   "source": [
    "**preprocess_text()** :\r\n",
    "> The preprocess_text() function has the role of processing the input text to prepare it for further processing and analysis.\r\n",
    "\r\n",
    "> Characters retained in the text:\r\n",
    "> 1. Letters: (A-Z)\r\n",
    "> 2. Numbers: decimal numbers (0-9)\r\n",
    "> 3. Letters characteristic of the Croatian speaking area: ('Č' , 'Ć' , 'DŽ' , 'Đ' 'Ž' 'Š')\r\n",
    "\r\n",
    "> Characters that have been removed from the text:\r\n",
    "> 1. Punctuation marks: All punctuation marks such as periods, commas, exclamation points, question marks and the like.\r\n",
    "> 2. Special characters: All characters that are not letters, numbers, or spaces.\r\n",
    "> 3. Other characters: Characters that are not standard ASCII characters."
   ]
  },
  {
   "cell_type": "code",
   "execution_count": 20,
   "id": "e7aafd66-49c6-413f-ab86-4194bfee0e8f",
   "metadata": {},
   "outputs": [],
   "source": [
    "text_columns = ['Tokens','Lemas']\n",
    "\n",
    "for column in text_columns: # Iterating through the 'Tokens' and 'Lemas' columns within the data frame\n",
    "    df[column] = preprocess_text(df[column])  # Processing texts in the selected columns using the previously defined function"
   ]
  },
  {
   "cell_type": "code",
   "execution_count": 21,
   "id": "2c0dccd6-2940-4ce5-b2cf-b877cde9cd86",
   "metadata": {},
   "outputs": [
    {
     "data": {
      "text/html": [
       "<div>\n",
       "<style scoped>\n",
       "    .dataframe tbody tr th:only-of-type {\n",
       "        vertical-align: middle;\n",
       "    }\n",
       "\n",
       "    .dataframe tbody tr th {\n",
       "        vertical-align: top;\n",
       "    }\n",
       "\n",
       "    .dataframe thead th {\n",
       "        text-align: right;\n",
       "    }\n",
       "</style>\n",
       "<table border=\"1\" class=\"dataframe\">\n",
       "  <thead>\n",
       "    <tr style=\"text-align: right;\">\n",
       "      <th></th>\n",
       "      <th>Sentence</th>\n",
       "      <th>Tokens</th>\n",
       "      <th>Lemas</th>\n",
       "    </tr>\n",
       "  </thead>\n",
       "  <tbody>\n",
       "    <tr>\n",
       "      <th>0</th>\n",
       "      <td>Proces privatizacije na Kosovu pod povećalom</td>\n",
       "      <td>[proces, privatizacije, na, kosovu, pod, poveć...</td>\n",
       "      <td>[proces, privatizacija, na, kosovo, pod, poveć...</td>\n",
       "    </tr>\n",
       "    <tr>\n",
       "      <th>1</th>\n",
       "      <td>Kosovo ozbiljno analizira proces privatizacije...</td>\n",
       "      <td>[kosovo, ozbiljno, analizira, proces, privatiz...</td>\n",
       "      <td>[kosovo, ozbiljno, analizirati, proces, privat...</td>\n",
       "    </tr>\n",
       "    <tr>\n",
       "      <th>2</th>\n",
       "      <td>Feronikel je privatiziran prije pet godina i j...</td>\n",
       "      <td>[feronikel, je, privatiziran, prije, pet, godi...</td>\n",
       "      <td>[feronikel, biti, privatizirati, prije, pet, g...</td>\n",
       "    </tr>\n",
       "    <tr>\n",
       "      <th>3</th>\n",
       "      <td>Barem na papiru, izgleda kao odlična ideja.</td>\n",
       "      <td>[barem, na, papiru, izgleda, kao, odlična, ideja]</td>\n",
       "      <td>[barem, na, papir, izgledati, kao, odličan, id...</td>\n",
       "    </tr>\n",
       "    <tr>\n",
       "      <th>4</th>\n",
       "      <td>Vlada prodaje poduzeća, rješava se opterećenja...</td>\n",
       "      <td>[vlada, prodaje, poduzeća, rješava, se, optere...</td>\n",
       "      <td>[vlada, prodavati, poduzeće, rješavati, sebe, ...</td>\n",
       "    </tr>\n",
       "  </tbody>\n",
       "</table>\n",
       "</div>"
      ],
      "text/plain": [
       "                                            Sentence  \\\n",
       "0       Proces privatizacije na Kosovu pod povećalom   \n",
       "1  Kosovo ozbiljno analizira proces privatizacije...   \n",
       "2  Feronikel je privatiziran prije pet godina i j...   \n",
       "3        Barem na papiru, izgleda kao odlična ideja.   \n",
       "4  Vlada prodaje poduzeća, rješava se opterećenja...   \n",
       "\n",
       "                                              Tokens  \\\n",
       "0  [proces, privatizacije, na, kosovu, pod, poveć...   \n",
       "1  [kosovo, ozbiljno, analizira, proces, privatiz...   \n",
       "2  [feronikel, je, privatiziran, prije, pet, godi...   \n",
       "3  [barem, na, papiru, izgleda, kao, odlična, ideja]   \n",
       "4  [vlada, prodaje, poduzeća, rješava, se, optere...   \n",
       "\n",
       "                                               Lemas  \n",
       "0  [proces, privatizacija, na, kosovo, pod, poveć...  \n",
       "1  [kosovo, ozbiljno, analizirati, proces, privat...  \n",
       "2  [feronikel, biti, privatizirati, prije, pet, g...  \n",
       "3  [barem, na, papir, izgledati, kao, odličan, id...  \n",
       "4  [vlada, prodavati, poduzeće, rješavati, sebe, ...  "
      ]
     },
     "execution_count": 21,
     "metadata": {},
     "output_type": "execute_result"
    }
   ],
   "source": [
    "df.head(5)"
   ]
  },
  {
   "cell_type": "code",
   "execution_count": 22,
   "id": "2a4d7a77-ee1b-4886-8f83-29e2ea3e5c57",
   "metadata": {},
   "outputs": [
    {
     "data": {
      "text/plain": [
       "'Barem na papiru, izgleda kao odlična ideja.'"
      ]
     },
     "execution_count": 22,
     "metadata": {},
     "output_type": "execute_result"
    }
   ],
   "source": [
    "df['Sentence'][3]"
   ]
  },
  {
   "cell_type": "code",
   "execution_count": 23,
   "id": "a62f540b-7017-4d93-9307-b90050cfac75",
   "metadata": {},
   "outputs": [
    {
     "data": {
      "text/plain": [
       "['barem', 'na', 'papiru', 'izgleda', 'kao', 'odlična', 'ideja']"
      ]
     },
     "execution_count": 23,
     "metadata": {},
     "output_type": "execute_result"
    }
   ],
   "source": [
    "df['Tokens'][3]"
   ]
  },
  {
   "cell_type": "code",
   "execution_count": 24,
   "id": "db01fbf9-6e26-4235-85cf-1d18ab1c0634",
   "metadata": {},
   "outputs": [
    {
     "data": {
      "text/plain": [
       "['barem', 'na', 'papir', 'izgledati', 'kao', 'odličan', 'ideja']"
      ]
     },
     "execution_count": 24,
     "metadata": {},
     "output_type": "execute_result"
    }
   ],
   "source": [
    "df['Lemas'][3]"
   ]
  },
  {
   "cell_type": "markdown",
   "id": "1b1f0172-dff6-45ea-90f2-3dbadb1aea74",
   "metadata": {},
   "source": [
    "The preprocess_text() function has removed all unnecessary characters so we can continue with\r\n",
    "further processing of the corpus."
   ]
  },
  {
   "cell_type": "markdown",
   "id": "3ae40212-bd25-4844-8db1-b818b8b4d4f1",
   "metadata": {},
   "source": [
    "# Data verification"
   ]
  },
  {
   "cell_type": "code",
   "execution_count": 25,
   "id": "62c470e9-5f5d-4566-bb2f-096dd1294a8e",
   "metadata": {},
   "outputs": [],
   "source": [
    "list_tokens=[]  # Creating an empty list for words\n",
    "list_lemmas=[]    # Creating an empty list for lemmas\n",
    "x=df['Tokens'].count()  # Counting the total number of tokens in the 'Tokens' column within the dataframe"
   ]
  },
  {
   "cell_type": "markdown",
   "id": "d5613c74-6e21-491e-9f0d-1e3bfb863b86",
   "metadata": {},
   "source": [
    "Checking the number of tokens and the number of lemmas in the corpus"
   ]
  },
  {
   "cell_type": "code",
   "execution_count": 26,
   "id": "82ef9892-9716-4eb9-bac7-c76642fff011",
   "metadata": {},
   "outputs": [],
   "source": [
    "num=-1"
   ]
  },
  {
   "cell_type": "code",
   "execution_count": 27,
   "id": "f440be72-3ca9-4d06-92a9-df6d934483f5",
   "metadata": {},
   "outputs": [
    {
     "name": "stdout",
     "output_type": "stream",
     "text": [
      "The number of words in the Tokens column and the Lemas column do not match for the index sentence: 4427\n"
     ]
    }
   ],
   "source": [
    "for i in range(x):\n",
    "\n",
    "  num+=1  # Incrementing the sentence index number\n",
    "  n_tokens=0  # Initializing the counter for tokens in a sentence\n",
    "  nn_tokens=0  # Storing the count of tokens in a sentence\n",
    "  n_lemas=0   # Initializing the counter for lemmas in a sentence\n",
    "  nn_lemas=0  # Storing the count of lemmas in a sentence\n",
    "\n",
    "  for element in df['Tokens'][i]:\n",
    "    n_tokens+=1  # Counting the tokens in the 'Tokens' column for the current sentence\n",
    "  nn_tokens=n_tokens  # Storing the count of tokens\n",
    "\n",
    "  for element in df['Lemas'][i]:\n",
    "    n_lemas+=1  # Counting the lemmas in the 'Lemas' column for the current sentence\n",
    "  nn_lemas=n_lemas  # Storing the count of lemmas\n",
    "\n",
    "  if(nn_tokens!=nn_lemas):  # Checking if the counts of tokens and lemmas don't match\n",
    "    print(f\"The number of words in the Tokens column and the Lemas column do not match for the index sentence: {num}\")  # Printing a message indicating the mismatch\n",
    "    continue  # Skipping to the next iteration if there is a mismatch"
   ]
  },
  {
   "cell_type": "markdown",
   "id": "25943842-550c-40b1-9c6f-4784fbb11c40",
   "metadata": {},
   "source": [
    "The token and lemma record in the dataset for the sentence with index 4427 do not match"
   ]
  },
  {
   "cell_type": "code",
   "execution_count": 28,
   "id": "2f5ddb00-3453-4f1f-a3d9-2e3fdff593a7",
   "metadata": {},
   "outputs": [
    {
     "data": {
      "text/plain": [
       "'Nedavno je ponuđena nagrada od $ 3,000 kreatoru drivera otvorenog koda za Xbox 360 Kinect, kontroler osjetljiv na pokrete.'"
      ]
     },
     "execution_count": 28,
     "metadata": {},
     "output_type": "execute_result"
    }
   ],
   "source": [
    "df['Sentence'][4427]"
   ]
  },
  {
   "cell_type": "code",
   "execution_count": 29,
   "id": "09826aff-4403-4b7c-8d94-0f839ea285b8",
   "metadata": {},
   "outputs": [
    {
     "data": {
      "text/plain": [
       "['nedavno',\n",
       " 'je',\n",
       " 'ponuđena',\n",
       " 'nagrada',\n",
       " 'od',\n",
       " '3000',\n",
       " 'kreatoru',\n",
       " 'drivera',\n",
       " 'otvorenog',\n",
       " 'koda',\n",
       " 'za',\n",
       " 'xbox',\n",
       " '360',\n",
       " 'kinect',\n",
       " 'kontroler',\n",
       " 'osjetljiv',\n",
       " 'na',\n",
       " 'pokrete']"
      ]
     },
     "execution_count": 29,
     "metadata": {},
     "output_type": "execute_result"
    }
   ],
   "source": [
    "df['Tokens'][4427]"
   ]
  },
  {
   "cell_type": "code",
   "execution_count": 30,
   "id": "7ae9cedb-5ef5-4d76-8225-3d7cc1a47749",
   "metadata": {},
   "outputs": [
    {
     "data": {
      "text/plain": [
       "['nedavno',\n",
       " 'biti',\n",
       " 'ponuditi',\n",
       " 'nagrada',\n",
       " 'od',\n",
       " 'sto',\n",
       " '3000',\n",
       " 'kreator',\n",
       " 'driver',\n",
       " 'otvoren',\n",
       " 'kod',\n",
       " 'za',\n",
       " 'xbox',\n",
       " '360',\n",
       " 'kinect',\n",
       " 'kontroler',\n",
       " 'osjetljiv',\n",
       " 'na',\n",
       " 'pokret']"
      ]
     },
     "execution_count": 30,
     "metadata": {},
     "output_type": "execute_result"
    }
   ],
   "source": [
    "df['Lemas'][4427]"
   ]
  },
  {
   "cell_type": "markdown",
   "id": "43bc17cb-1ae4-4743-8008-8b68a7d49a04",
   "metadata": {},
   "source": [
    "Excluding the word 'sto' that does not match"
   ]
  },
  {
   "cell_type": "code",
   "execution_count": 31,
   "id": "c671e2c1-782a-47cf-8ff0-4c4fa00c430e",
   "metadata": {},
   "outputs": [],
   "source": [
    "for i in range(x):\n",
    "  for element in df['Tokens'][i]: # Iterating through each sentence within the data frame\n",
    "    list_tokens.append(element)  # Adding each word to the list of words\n",
    "\n",
    "  if i==4427: # Checking the index of the sentence\n",
    "    for element in df['Lemas'][i]:  # For a specific index of the sentence, add only the lemmas that are not 'sto' to the list of lemmas\n",
    "      if element != 'sto':\n",
    "        list_lemmas.append(element)\n",
    "\n",
    "  if i!=4427: # Checking the index of the sentence\n",
    "    for element in df['Lemas'][i]:  # For all other indices of the sentences, add all lemmas to the list of lemmas\n",
    "      list_lemmas.append(element)"
   ]
  },
  {
   "cell_type": "code",
   "execution_count": 32,
   "id": "4e8a6e83-50bb-4dae-b6ef-e1b4203af857",
   "metadata": {},
   "outputs": [
    {
     "name": "stdout",
     "output_type": "stream",
     "text": [
      "438434\n",
      "438434\n"
     ]
    }
   ],
   "source": [
    "print(len(list_lemmas))\n",
    "print(len(list_tokens))"
   ]
  },
  {
   "cell_type": "markdown",
   "id": "b81ffb97-39d7-4a93-be45-3f0ce23d47b5",
   "metadata": {},
   "source": [
    "The next step will be to create a DataFrame from the corpus with 'Token' and 'Lemma' columns.\r\n",
    "The dataset created will be used on machine learning models to determine\r\n",
    "lemmatization marks"
   ]
  },
  {
   "cell_type": "code",
   "execution_count": 33,
   "id": "8cafdc7d-83ba-4b45-9330-490b97b2fc05",
   "metadata": {},
   "outputs": [],
   "source": [
    "dataset = pd.DataFrame({\n",
    "    'Rijeci': list_tokens,\n",
    "    'Leme': list_lemmas\n",
    "})"
   ]
  },
  {
   "cell_type": "code",
   "execution_count": 34,
   "id": "bcfad158-4365-4aad-b938-079059181843",
   "metadata": {},
   "outputs": [
    {
     "data": {
      "text/html": [
       "<div>\n",
       "<style scoped>\n",
       "    .dataframe tbody tr th:only-of-type {\n",
       "        vertical-align: middle;\n",
       "    }\n",
       "\n",
       "    .dataframe tbody tr th {\n",
       "        vertical-align: top;\n",
       "    }\n",
       "\n",
       "    .dataframe thead th {\n",
       "        text-align: right;\n",
       "    }\n",
       "</style>\n",
       "<table border=\"1\" class=\"dataframe\">\n",
       "  <thead>\n",
       "    <tr style=\"text-align: right;\">\n",
       "      <th></th>\n",
       "      <th>Rijeci</th>\n",
       "      <th>Leme</th>\n",
       "    </tr>\n",
       "  </thead>\n",
       "  <tbody>\n",
       "    <tr>\n",
       "      <th>0</th>\n",
       "      <td>proces</td>\n",
       "      <td>proces</td>\n",
       "    </tr>\n",
       "    <tr>\n",
       "      <th>1</th>\n",
       "      <td>privatizacije</td>\n",
       "      <td>privatizacija</td>\n",
       "    </tr>\n",
       "    <tr>\n",
       "      <th>2</th>\n",
       "      <td>na</td>\n",
       "      <td>na</td>\n",
       "    </tr>\n",
       "    <tr>\n",
       "      <th>3</th>\n",
       "      <td>kosovu</td>\n",
       "      <td>kosovo</td>\n",
       "    </tr>\n",
       "    <tr>\n",
       "      <th>4</th>\n",
       "      <td>pod</td>\n",
       "      <td>pod</td>\n",
       "    </tr>\n",
       "    <tr>\n",
       "      <th>...</th>\n",
       "      <td>...</td>\n",
       "      <td>...</td>\n",
       "    </tr>\n",
       "    <tr>\n",
       "      <th>438429</th>\n",
       "      <td>koje</td>\n",
       "      <td>koji</td>\n",
       "    </tr>\n",
       "    <tr>\n",
       "      <th>438430</th>\n",
       "      <td>nećemo</td>\n",
       "      <td>htjeti</td>\n",
       "    </tr>\n",
       "    <tr>\n",
       "      <th>438431</th>\n",
       "      <td>tako</td>\n",
       "      <td>tako</td>\n",
       "    </tr>\n",
       "    <tr>\n",
       "      <th>438432</th>\n",
       "      <td>skoro</td>\n",
       "      <td>skoro</td>\n",
       "    </tr>\n",
       "    <tr>\n",
       "      <th>438433</th>\n",
       "      <td>zaboraviti</td>\n",
       "      <td>zaboraviti</td>\n",
       "    </tr>\n",
       "  </tbody>\n",
       "</table>\n",
       "<p>438434 rows × 2 columns</p>\n",
       "</div>"
      ],
      "text/plain": [
       "               Rijeci           Leme\n",
       "0              proces         proces\n",
       "1       privatizacije  privatizacija\n",
       "2                  na             na\n",
       "3              kosovu         kosovo\n",
       "4                 pod            pod\n",
       "...               ...            ...\n",
       "438429           koje           koji\n",
       "438430         nećemo         htjeti\n",
       "438431           tako           tako\n",
       "438432          skoro          skoro\n",
       "438433     zaboraviti     zaboraviti\n",
       "\n",
       "[438434 rows x 2 columns]"
      ]
     },
     "execution_count": 34,
     "metadata": {},
     "output_type": "execute_result"
    }
   ],
   "source": [
    "dataset"
   ]
  },
  {
   "cell_type": "markdown",
   "id": "7f6a4d6d-752b-44d5-b496-cd403d9c76bf",
   "metadata": {},
   "source": [
    "# Descriptive statistics"
   ]
  },
  {
   "cell_type": "markdown",
   "id": "6b3d65b7-42c7-44fc-997d-dc555ef19250",
   "metadata": {},
   "source": [
    "Analyzing textual data often requires the use of\r\n",
    "specialized tools and techniques to gain useful insights.\r\n",
    "We focus on the application of descriptive statistics to the data set\r\n",
    "consisting of tokens and lemmatizations.\r\n",
    "Through descriptive statistics, we aim to provide detailed insight into\r\n",
    "the structure of this dataset,\r\n",
    " explore the basic characteristics of tokens and their lemmatized ones\r\n",
    "shape and extract useful information that can serve as a basis for further analysis\r\n",
    "or interpretation of results."
   ]
  },
  {
   "cell_type": "code",
   "execution_count": 35,
   "id": "a76d5dbf-b2fc-478e-9663-59bdd05c3076",
   "metadata": {},
   "outputs": [
    {
     "name": "stdout",
     "output_type": "stream",
     "text": [
      "Number of unique words in the corpus: 66075\n",
      "Number of unique lemmas in the corpus: 32590\n"
     ]
    },
    {
     "data": {
      "image/png": "[encoded data removed]",
      "text/plain": [
       "<Figure size 800x600 with 1 Axes>"
      ]
     },
     "metadata": {},
     "output_type": "display_data"
    }
   ],
   "source": [
    "unique_words = len(set(dataset['Rijeci'].explode())) # Calculate the number of unique words by computing the length of the set of unique tokens from the 'Token' column in the dataset.\n",
    "unique_lemmas = len(set(dataset['Leme'].explode()))  # Calculate the number of unique lemmas by computing the length of the set of unique lemmas from the 'Lemma' column in the dataset.\n",
    "\n",
    "\n",
    "print(f\"Number of unique words in the corpus: {unique_words}\")  # Print the number of unique words and the number of unique words in the corpus.\n",
    "print(f\"Number of unique lemmas in the corpus: {unique_lemmas}\")  # Print the number of unique words and the number of unique lemmas in the corpus.\n",
    "\n",
    "\n",
    "plt.figure(figsize=(8, 6))  # Create a new figure with size 8x6.\n",
    "plt.bar(['unique words','unique lemmas'], [unique_words,unique_lemmas]) # Display bar charts for the number of unique words and the number of unique lemmas on the plot.\n",
    "plt.ylabel('number of tokens')  # Label the y-axis as 'number of tokens'.\n",
    "plt.title('Number of unique words/lemmas in the corpus')  # Set the title of the plot to 'Number of unique words/lemmas in the corpus'.\n",
    "plt.show()  # Show the plot."
   ]
  },
  {
   "cell_type": "markdown",
   "id": "07371401-d6e7-46a9-8fbc-4e0a79941f9e",
   "metadata": {},
   "source": [
    "The graph shows that there are over 60,000 unique words, while the number of unique lemmas is much smaller and amounts to around 30,000. This difference indicates that a large number of different forms of the same words (lemma) appear in the corpus."
   ]
  },
  {
   "cell_type": "code",
   "execution_count": 36,
   "id": "e1c543ea-157f-40ad-bee9-4249978f10a6",
   "metadata": {},
   "outputs": [
    {
     "data": {
      "image/png": "[encoded data removed]",
      "text/plain": [
       "<Figure size 640x480 with 1 Axes>"
      ]
     },
     "metadata": {},
     "output_type": "display_data"
    }
   ],
   "source": [
    "freqs = sorted(dataset['Rijeci'].value_counts()) # Compute the frequency of each token appearing in the dataset and sort them.\n",
    "\n",
    "plt.scatter(range(len(freqs)), freqs, marker=\".\") # Plot the distribution of token frequencies using a scatter plot.\n",
    "plt.title(\"Frequency of tokens in the corpus\")  # Set the title of the plot to \"Frequency of tokens in the corpus\".\n",
    "plt.ylabel(\"Freq\")  # Label the y-axis as \"Freq\" (frequency).\n",
    "plt.xlabel(\"Token\") # Label the x-axis as \"Token\".\n",
    "plt.yscale(\"log\") # Set the y-axis scale to logarithmic for better visualization of the data.\n",
    "plt.show()  # Display the plot."
   ]
  },
  {
   "cell_type": "markdown",
   "id": "b0a52f9c-fe21-43af-9283-27a088c06a12",
   "metadata": {},
   "source": [
    "The graph shows the frequency of tokens in the corpus. On the x-axis are the tokens, and on the y-axis is the frequency, displayed in a logarithmic scale. It can be seen that a small number of tokens have a high frequency (over 10^3), while most tokens have a low frequency (below 10^2). This indicates that the corpus contains a large number of rare words and few frequently used words, which is typical for natural languages."
   ]
  },
  {
   "cell_type": "code",
   "execution_count": 37,
   "id": "ccac3cad-a871-4928-9380-d16d097cafee",
   "metadata": {},
   "outputs": [
    {
     "data": {
      "image/png": "[encoded data removed]",
      "text/plain": [
       "<Figure size 640x480 with 1 Axes>"
      ]
     },
     "metadata": {},
     "output_type": "display_data"
    }
   ],
   "source": [
    "freqs = sorted(dataset['Leme'].value_counts())  # Compute the frequency of each lemma appearing in the dataset and sort them.\n",
    "\n",
    "plt.scatter(range(len(freqs)), freqs, marker=\".\") # Plot the distribution of lemma frequencies using a scatter plot.\n",
    "plt.title(\"Frequency of lemmatization tags in the corpus\")  # Set the title of the plot to \"Frequency of lemmatization tags in the corpus\".\n",
    "plt.ylabel(\"Freq\")  # Label the y-axis as \"Freq\" (frequency).\n",
    "plt.xlabel(\"Lemmas\")  # Label the x-axis as \"Lemmas\".\n",
    "plt.yscale(\"log\") # Set the y-axis scale to logarithmic for better visualization of the data.\n",
    "plt.show()  # Display the plot."
   ]
  },
  {
   "cell_type": "markdown",
   "id": "b99203e1-3076-41de-9ca8-53f236382f4b",
   "metadata": {},
   "source": [
    "The graph shows the frequency of lemma in the data set.\r\n",
    "It can be seen that most of the leads have a low frequency, but there is a small number\r\n",
    "lemma with high frequency. This distribution indicates that in the set\r\n",
    "data, a large number of rare lemmas appear, while some lemmas are often used."
   ]
  },
  {
   "cell_type": "code",
   "execution_count": 38,
   "id": "3a34f884-9670-4d4e-8d92-5a0c73a5c9f1",
   "metadata": {},
   "outputs": [
    {
     "name": "stdout",
     "output_type": "stream",
     "text": [
      "Total number of tokens that appear only once:  36669\n",
      "In relation to the total number of unique tokens it amounts to: 55.50%\n",
      "Total number of lemmas that appear only once:  15629\n",
      "In relation to the total number of lemmas, it amounts to: 47.96%\n"
     ]
    }
   ],
   "source": [
    "no_token = dataset['Rijeci'].explode().value_counts()  # Count the occurrences of each token in the dataset after exploding the 'Token' column.\n",
    "no_lemma = dataset['Leme'].explode().value_counts()  # Count the occurrences of each lemma in the dataset after exploding the 'Lemma' column.\n",
    "\n",
    "# Filter out the tokens and lemmas that appear only once.\n",
    "freq_1_w = no_token[no_token == 1]\n",
    "freq_1_l = no_lemma[no_lemma == 1]\n",
    "# Count the number of tokens and lemmas that appear only once.\n",
    "br_freq_1_w = len(freq_1_w)\n",
    "br_freq_1_l = len(freq_1_l)\n",
    "# Calculate the percentage of tokens and lemmas that appear only once relative to the total number of unique tokens and lemmas.\n",
    "postotak_w = (br_freq_1_w / unique_words) * 100\n",
    "postotak_l = (br_freq_1_l / unique_lemmas) * 100\n",
    "\n",
    "print(\"Total number of tokens that appear only once: \", br_freq_1_w)\n",
    "print(\"In relation to the total number of unique tokens it amounts to: {:.2f}%\".format(postotak_w))\n",
    "print(\"Total number of lemmas that appear only once: \", br_freq_1_l)\n",
    "print(\"In relation to the total number of lemmas, it amounts to: {:.2f}%\".format(postotak_l))"
   ]
  },
  {
   "cell_type": "code",
   "execution_count": 39,
   "id": "ffc92083-a5b3-4895-b9a5-0afb5a668e0d",
   "metadata": {},
   "outputs": [],
   "source": [
    "longest_token = max(dataset['Rijeci'], key=len)  # Find the longest token in the dataset by length.\n",
    "longest_len = len(longest_token)  # Calculate the length of the longest token.\n",
    "shortest_token = min(dataset['Rijeci'], key=len) # Find the shortest token in the dataset by length.\n",
    "shortest_len = len(shortest_token)  # Calculate the length of the shortest token.\n",
    "\n",
    "\n",
    "longest_lemma = max(dataset['Leme'], key=len)  # Find the longest lemma in the dataset by length.\n",
    "longest_l_len = len(longest_lemma)  # Calculate the length of the longest lemma.\n",
    "shortest_lema = min(dataset['Leme'], key=len)  # Find the shortest lemma in the dataset by length.\n",
    "shortest_l_len = len(shortest_lema) # Calculate the length of the shortest lemma.\n",
    "\n",
    "# Initialize variables\n",
    "total_length = 0\n",
    "number_words = 0\n",
    "\n",
    "for word in dataset['Rijeci']: # Iterate through each token in the dataset.\n",
    "    total_length += len(word) # Add the length of the current token to the total length.\n",
    "    number_words += 1 # Increment the number of words.\n",
    "\n",
    "average_length_token = total_length / number_words  # Calculate the average length of tokens.\n",
    "\n",
    "# Initialize variables\n",
    "total_length_l = 0\n",
    "lemma_number = 0\n",
    "\n",
    "for lemma in dataset['Leme']:  # Iterate through each lemma in the dataset.\n",
    "    total_length_l += len(lemma)  # Add the length of the current lemma to the total length.\n",
    "    lemma_number += 1 # Increment the number of lemmas.\n",
    "\n",
    "average_length_of_lemma = total_length_l / lemma_number # Calculate the average length of lemmas."
   ]
  },
  {
   "cell_type": "code",
   "execution_count": 40,
   "id": "cbc021ab-919b-4009-a48a-146a17c52f9c",
   "metadata": {},
   "outputs": [
    {
     "name": "stdout",
     "output_type": "stream",
     "text": [
      "TOKEN:\n",
      "-------------------------------------------------------------------------\n",
      "The longest token is: imghttpwwwugcscaltechedusttngpicsfedlogogifimg\n",
      "Its length is: 46\n",
      "The shortest token is: u\n",
      "Its length is: 1\n",
      "Average length of tokens in the corpus: 5.25\n",
      "-------------------------------------------------------------------------\n",
      "LEMMA:\n",
      "-------------------------------------------------------------------------\n",
      "The longest lemma is: imghttpwwwugcscaltechedusttngpicsfedlogogifimg\n",
      "Its length is: 46\n",
      "The shortest lemma is: u\n",
      "Its length is: 1\n",
      "Average length of lemma in the corpus: 5.26\n"
     ]
    }
   ],
   "source": [
    "print(\"TOKEN:\")\n",
    "print(\"-------------------------------------------------------------------------\")\n",
    "print(\"The longest token is:\", longest_token)\n",
    "print(\"Its length is:\", longest_len)\n",
    "\n",
    "print(\"The shortest token is:\", shortest_token)\n",
    "print(\"Its length is:\", shortest_len)\n",
    "print(\"Average length of tokens in the corpus: {:.2f}\".format(average_length_token))\n",
    "print(\"-------------------------------------------------------------------------\")\n",
    "print(\"LEMMA:\")\n",
    "print(\"-------------------------------------------------------------------------\")\n",
    "print(\"The longest lemma is:\", longest_lemma)\n",
    "print(\"Its length is:\", longest_l_len)\n",
    "\n",
    "print(\"The shortest lemma is:\", shortest_lema)\n",
    "print(\"Its length is:\", shortest_l_len)\n",
    "print(\"Average length of lemma in the corpus: {:.2f}\".format(average_length_of_lemma))"
   ]
  },
  {
   "cell_type": "code",
   "execution_count": 41,
   "id": "a06824db-b202-48ec-a129-02ba0dd4fc12",
   "metadata": {},
   "outputs": [
    {
     "data": {
      "image/png": "[encoded data removed]",
      "text/plain": [
       "<Figure size 1000x600 with 1 Axes>"
      ]
     },
     "metadata": {},
     "output_type": "display_data"
    }
   ],
   "source": [
    "token_counts = dataset['Rijeci'].value_counts().head(20) # Count the occurrences of each token in the dataset and select the top 20 most frequent tokens.\n",
    "\n",
    "plt.figure(figsize=(10, 6)) # Create a new figure with size 10x6\n",
    "token_counts.plot(kind='bar') # Plot a bar chart representing the top 20 most used tokens\n",
    "plt.title('20 most used tokens')  # Set the title of the plot to '20 most used tokens'.\n",
    "plt.xlabel('Tokens')  # Label the x-axis as 'Tokens'.\n",
    "plt.ylabel('Number of impressions') # Label the y-axis as 'Number of impressions'.\n",
    "plt.xticks(rotation=90) # Rotate the x-axis labels by 90 degrees for better readability.\n",
    "plt.show()  # Display the plot."
   ]
  },
  {
   "cell_type": "markdown",
   "id": "fe28bbed-979b-466c-bc1e-d0c51ef88c7e",
   "metadata": {},
   "source": [
    "The graph shows the 20 most frequently used tokens. The x-axis is the tokens and the y-axis is the number of occurrences. The most common token is \"i\" with over 14,000 occurrences, followed by \"je\",\"u\", etc."
   ]
  },
  {
   "cell_type": "code",
   "execution_count": 42,
   "id": "613742a3-acea-45c2-8858-36d91fa26e4c",
   "metadata": {},
   "outputs": [
    {
     "data": {
      "image/png": "[encoded data removed]",
      "text/plain": [
       "<Figure size 1000x600 with 1 Axes>"
      ]
     },
     "metadata": {},
     "output_type": "display_data"
    }
   ],
   "source": [
    "lemma_counts = dataset['Leme'].value_counts().head(20) # Count the occurrences of each lemma in the dataset and select the top 20 most frequent lemmas.\n",
    "\n",
    "plt.figure(figsize=(10, 6)) # Create a new figure with size 10x6.\n",
    "lemma_counts.plot(kind='bar') # Plot a bar chart representing the top 20 most frequently used lemmas.\n",
    "plt.title('20 most frequently used lemmas') # Set the title of the plot to '20 most frequently used lemmas'.\n",
    "plt.xlabel('Lemma') # Label the x-axis as 'Lemma'.\n",
    "plt.ylabel('Number of impressions') # Label the y-axis as 'Number of impressions'.\n",
    "plt.xticks(rotation=90) # Rotate the x-axis labels by 90 degrees for better readability.\n",
    "plt.show()  # Display the plot."
   ]
  },
  {
   "cell_type": "markdown",
   "id": "49ab3582-1432-4e00-a9cc-0c5931da2cfd",
   "metadata": {},
   "source": [
    "The graph shows the 20 most frequently used lemmas. The x-axis is the lemmas and the y-axis is the number of occurrences. The most common lemma is \"biti\" with over 14,000 occurrences, followed by \"i\",\"u\", etc."
   ]
  },
  {
   "cell_type": "code",
   "execution_count": 43,
   "id": "c7251785-2eb5-499e-a02f-2c78ffa18211",
   "metadata": {},
   "outputs": [
    {
     "data": {
      "text/plain": [
       "['biti', 'i', 'u', 'sebe', 'na', 'koji', 'da', 'za', 'taj', 'sa']"
      ]
     },
     "execution_count": 43,
     "metadata": {},
     "output_type": "execute_result"
    }
   ],
   "source": [
    "lema_counter = dataset['Leme'].value_counts().head(10).index.tolist() # Count the occurrences of each lemma in the dataset and select the top 10 most frequent lemmas.\n",
    "                                                                      # Then, retrieve the indices (lemmas) of these top 10 most frequent occurrences.\n",
    "lema_counter  # Return the list of top 10 most frequent lemmas."
   ]
  },
  {
   "cell_type": "code",
   "execution_count": 44,
   "id": "d7dd197d-3f43-408e-8fd0-62168f177694",
   "metadata": {},
   "outputs": [
    {
     "name": "stdout",
     "output_type": "stream",
     "text": [
      "---------------------\n",
      "biti\n",
      "---------------------\n",
      "Rijeci\n",
      "je      13786\n",
      "su       4340\n",
      "bi       1606\n",
      "nije     1257\n",
      "sam      1205\n",
      "Name: count, dtype: int64\n",
      "---------------------\n",
      "i\n",
      "---------------------\n",
      "Rijeci\n",
      "i      15674\n",
      "me         4\n",
      "iii        1\n",
      "Name: count, dtype: int64\n",
      "---------------------\n",
      "u\n",
      "---------------------\n",
      "Rijeci\n",
      "u    13014\n",
      "Name: count, dtype: int64\n",
      "---------------------\n",
      "sebe\n",
      "---------------------\n",
      "Rijeci\n",
      "se       7662\n",
      "sebe      170\n",
      "si        127\n",
      "sebi      101\n",
      "sobom      36\n",
      "Name: count, dtype: int64\n",
      "---------------------\n",
      "na\n",
      "---------------------\n",
      "Rijeci\n",
      "na    7031\n",
      "Name: count, dtype: int64\n",
      "---------------------\n",
      "koji\n",
      "---------------------\n",
      "Rijeci\n",
      "koji      2510\n",
      "koje      1239\n",
      "koja       941\n",
      "koju       344\n",
      "kojima     276\n",
      "Name: count, dtype: int64\n",
      "---------------------\n",
      "da\n",
      "---------------------\n",
      "Rijeci\n",
      "da    6136\n",
      "Name: count, dtype: int64\n",
      "---------------------\n",
      "za\n",
      "---------------------\n",
      "Rijeci\n",
      "za    5019\n",
      "Name: count, dtype: int64\n",
      "---------------------\n",
      "taj\n",
      "---------------------\n",
      "Rijeci\n",
      "to      2174\n",
      "toga     366\n",
      "taj      297\n",
      "tome     282\n",
      "tom      211\n",
      "Name: count, dtype: int64\n",
      "---------------------\n",
      "sa\n",
      "---------------------\n",
      "Rijeci\n",
      "s     2804\n",
      "sa     981\n",
      "Name: count, dtype: int64\n"
     ]
    }
   ],
   "source": [
    "for element in lema_counter:    # Iterate through each lemma in the list of top 10 most frequent lemmas.\n",
    "    filtered_data = dataset[dataset['Leme'] == element] # Filter the dataset to include only rows where the lemma matches the current element.\n",
    "    word_counts = filtered_data['Rijeci'].value_counts()  # Count the occurrences of each token for the current lemma.\n",
    "    print(\"---------------------\")\n",
    "    print(element)  # Print the current lemma.\n",
    "    print(\"---------------------\")\n",
    "    print(word_counts.head(5))  # Print the top 5 most common tokens associated with the current lemma."
   ]
  },
  {
   "cell_type": "code",
   "execution_count": 45,
   "id": "bb966085-d584-4b91-8111-5cb396b4063e",
   "metadata": {},
   "outputs": [
    {
     "data": {
      "image/png": "[encoded data removed]",
      "text/plain": [
       "<Figure size 1200x800 with 1 Axes>"
      ]
     },
     "metadata": {},
     "output_type": "display_data"
    }
   ],
   "source": [
    "plt.figure(figsize=(12, 8)) # Initialize the figure with size 12x8.\n",
    "for element in lema_counter:  # Iterate through each element (lemma) in the list of top 10 most frequent lemmas.\n",
    "    x = dataset[dataset['Leme'] == element]['Rijeci'].value_counts().head(5)  # Filter the dataset to include only rows where the lemma matches the current element,\n",
    "                                                                              # and then count the occurrences of each token for that lemma, considering only the top 5.\n",
    "    plt.plot(x, marker='o', label=element)  # Visualize the data by plotting a line chart with markers for each token's occurrence count,\n",
    "                                            # labeling each line with the current lemma.\n",
    "\n",
    "plt.title('Top 5 tokens by Lemma')  # Add title to the plot.\n",
    "plt.xlabel('Tokens')  # Label the x-axis as 'Tokens'.\n",
    "plt.ylabel('Number of Repetitions') # Label the y-axis as 'Number of Repetitions'.\n",
    "plt.legend()  # Add a legend to the plot to distinguish between different lemmas.\n",
    "plt.grid(True)  # Add a grid to the plot for better readability.\n",
    "plt.xticks(rotation=45) # Rotate the x-axis labels by 45 degrees for better readability.\n",
    "plt.tight_layout()  # Adjust layout for better visualization.\n",
    "plt.show()  # Display the plot."
   ]
  },
  {
   "cell_type": "code",
   "execution_count": 46,
   "id": "3970cd7e-785b-4a1c-9c80-44cf2f30cca1",
   "metadata": {},
   "outputs": [
    {
     "data": {
      "image/png": "[encoded data removed]",
      "text/plain": [
       "<Figure size 1000x600 with 1 Axes>"
      ]
     },
     "metadata": {},
     "output_type": "display_data"
    }
   ],
   "source": [
    "token_length = dataset['Rijeci'].apply(len)  # Compute the length of each token in the dataset and store the lengths in a new Series.\n",
    "\n",
    "plt.figure(figsize=(10, 6)) # Create a new figure with size 10x6.\n",
    "plt.hist(token_length, color='skyblue', edgecolor='black')  # Plot a histogram showing the distribution of token lengths.\n",
    "plt.title('Token length distribution')  # Set the title of the plot to 'Token length distribution'.\n",
    "plt.xlabel('Token length')  # Label the x-axis as 'Token length'.\n",
    "plt.ylabel('Number of Tokens')  # Label the y-axis as 'Number of Tokens'.\n",
    "plt.grid(True)  # Add a grid to the plot for better readability.\n",
    "plt.show()  # Display the plot."
   ]
  },
  {
   "cell_type": "markdown",
   "id": "ba6eaeda-07b3-4fc7-b47a-9ea825e597d1",
   "metadata": {},
   "source": [
    "The chart shows the token length distribution. The largest number of tokens have a length of 0 to 10, with the highest number around 0 to 5. The number of tokens decreases as token length increases, with a significant drop after a length of 10. This distribution indicates that there are a large number of short tokens in the corpus, while the number of long tokens is significantly smaller."
   ]
  },
  {
   "cell_type": "code",
   "execution_count": 47,
   "id": "be8435ac-825c-400e-9fda-060f89891617",
   "metadata": {},
   "outputs": [
    {
     "data": {
      "image/png": "[encoded data removed]",
      "text/plain": [
       "<Figure size 1000x600 with 1 Axes>"
      ]
     },
     "metadata": {},
     "output_type": "display_data"
    }
   ],
   "source": [
    "lemma_length = dataset['Leme'].apply(len)  # Compute the length of each lemma in the dataset and store the lengths in a new Series.\n",
    "\n",
    "plt.figure(figsize=(10, 6)) # Create a new figure with size 10x6.\n",
    "plt.hist(lemma_length, color='skyblue', edgecolor='black')  # Plot a histogram showing the distribution of lemma lengths.\n",
    "plt.title('Lemma length distribution')  # Set the title of the plot to 'Lemma length distribution'.\n",
    "plt.xlabel('Lemma length')  # Label the x-axis as 'Lemma length'.\n",
    "plt.ylabel('Number of lemmas')  # Label the y-axis as 'Lemma counts'.\n",
    "plt.grid(True)  # Add a grid to the plot for better readability.\n",
    "plt.show()  # Display the plot."
   ]
  },
  {
   "cell_type": "markdown",
   "id": "1874ea16-3ed8-4eca-a403-ab133f2ead14",
   "metadata": {},
   "source": [
    "The length distribution for lemmatization labels is similar to that for tokens."
   ]
  },
  {
   "cell_type": "markdown",
   "id": "a6d7a5eb-1515-45b6-8b88-b21f171179ad",
   "metadata": {},
   "source": [
    "# Train, test and validation data splitting"
   ]
  },
  {
   "cell_type": "markdown",
   "id": "ed7cd560-6523-449f-9abd-fd9600a93723",
   "metadata": {},
   "source": [
    "The data is divided into a training set, a validation set, and a training set\r\n",
    "in such a way as to take into account the data in relation to the frequency of their lemmas. Used\r\n",
    "are only tokens and lemmas where the lemma frequency is greater than 1 so it is avoided\r\n",
    "that certain lemmatization labels appear only in the training set or\r\n",
    "in one of the remaining two data sets"
   ]
  },
  {
   "cell_type": "code",
   "execution_count": 48,
   "id": "07b4e098-2707-4b77-bdcf-e63764d5f002",
   "metadata": {},
   "outputs": [],
   "source": [
    "freq_lemma = dataset['Leme'].value_counts()  # Count the occurrences of each lemma in the dataset and store the frequencies in a Series.\n",
    "freq_lemma = freq_lemma[freq_lemma > 1] # Filter the lemma frequencies to include only those lemmas that appear more than once.\n",
    "\n",
    "train_dataset, remaining_data = train_test_split(dataset[dataset['Leme'].isin(freq_lemma.index)],\n",
    "                                                 test_size=0.25, random_state=42) # Split the dataset into a training set and remaining data using lemmas from the filtered lemma frequencies.\n",
    "                                                                                  # The training set will contain 75% of the data, and the remaining data will contain 25%.\n",
    "\n",
    "test_dataset, val_dataset = train_test_split(remaining_data, test_size=0.5, random_state=42)  # Split the remaining data into a test set and a validation set, each containing 12.5% of the original data."
   ]
  },
  {
   "cell_type": "code",
   "execution_count": 49,
   "id": "3d9ab211-5496-457b-8712-437b6e3c8006",
   "metadata": {},
   "outputs": [
    {
     "name": "stdout",
     "output_type": "stream",
     "text": [
      "The training data set from the total data set includes 72.33%\n",
      "The test data set from the total data set includes 12.05%\n",
      "The validation data set from the total data set includes 12.05%\n",
      "Tokens and lemmatization labels that are excluded due to lemmatization frequency 3.87%\n"
     ]
    }
   ],
   "source": [
    "print(\"The training data set from the total data set includes {:.2f}%\".format((len(train_dataset)/len(dataset))*100))\n",
    "print(\"The test data set from the total data set includes {:.2f}%\".format((len(test_dataset)/len(dataset))*100))\n",
    "print(\"The validation data set from the total data set includes {:.2f}%\".format((len(val_dataset)/len(dataset))*100))\n",
    "print(\"Tokens and lemmatization labels that are excluded due to lemmatization frequency {:.2f}%\".format((len(freq_lemma)/len(dataset))*100))"
   ]
  },
  {
   "cell_type": "code",
   "execution_count": 50,
   "id": "2c092961-f47f-4e0e-8011-9d1418374add",
   "metadata": {},
   "outputs": [
    {
     "data": {
      "text/html": [
       "<div>\n",
       "<style scoped>\n",
       "    .dataframe tbody tr th:only-of-type {\n",
       "        vertical-align: middle;\n",
       "    }\n",
       "\n",
       "    .dataframe tbody tr th {\n",
       "        vertical-align: top;\n",
       "    }\n",
       "\n",
       "    .dataframe thead th {\n",
       "        text-align: right;\n",
       "    }\n",
       "</style>\n",
       "<table border=\"1\" class=\"dataframe\">\n",
       "  <thead>\n",
       "    <tr style=\"text-align: right;\">\n",
       "      <th></th>\n",
       "      <th>Rijeci</th>\n",
       "      <th>Leme</th>\n",
       "    </tr>\n",
       "  </thead>\n",
       "  <tbody>\n",
       "    <tr>\n",
       "      <th>65020</th>\n",
       "      <td>poruku</td>\n",
       "      <td>poruka</td>\n",
       "    </tr>\n",
       "    <tr>\n",
       "      <th>259006</th>\n",
       "      <td>a</td>\n",
       "      <td>a</td>\n",
       "    </tr>\n",
       "    <tr>\n",
       "      <th>274139</th>\n",
       "      <td>ali</td>\n",
       "      <td>ali</td>\n",
       "    </tr>\n",
       "    <tr>\n",
       "      <th>44119</th>\n",
       "      <td>države</td>\n",
       "      <td>država</td>\n",
       "    </tr>\n",
       "    <tr>\n",
       "      <th>345827</th>\n",
       "      <td>ipak</td>\n",
       "      <td>ipak</td>\n",
       "    </tr>\n",
       "    <tr>\n",
       "      <th>...</th>\n",
       "      <td>...</td>\n",
       "      <td>...</td>\n",
       "    </tr>\n",
       "    <tr>\n",
       "      <th>268929</th>\n",
       "      <td>zdravi</td>\n",
       "      <td>zdrav</td>\n",
       "    </tr>\n",
       "    <tr>\n",
       "      <th>379587</th>\n",
       "      <td>još</td>\n",
       "      <td>još</td>\n",
       "    </tr>\n",
       "    <tr>\n",
       "      <th>135564</th>\n",
       "      <td>slučajno</td>\n",
       "      <td>slučajno</td>\n",
       "    </tr>\n",
       "    <tr>\n",
       "      <th>151477</th>\n",
       "      <td>mi</td>\n",
       "      <td>ja</td>\n",
       "    </tr>\n",
       "    <tr>\n",
       "      <th>125216</th>\n",
       "      <td>kojoj</td>\n",
       "      <td>koji</td>\n",
       "    </tr>\n",
       "  </tbody>\n",
       "</table>\n",
       "<p>317103 rows × 2 columns</p>\n",
       "</div>"
      ],
      "text/plain": [
       "          Rijeci      Leme\n",
       "65020     poruku    poruka\n",
       "259006         a         a\n",
       "274139       ali       ali\n",
       "44119     države    država\n",
       "345827      ipak      ipak\n",
       "...          ...       ...\n",
       "268929    zdravi     zdrav\n",
       "379587       još       još\n",
       "135564  slučajno  slučajno\n",
       "151477        mi        ja\n",
       "125216     kojoj      koji\n",
       "\n",
       "[317103 rows x 2 columns]"
      ]
     },
     "execution_count": 50,
     "metadata": {},
     "output_type": "execute_result"
    }
   ],
   "source": [
    "train_dataset"
   ]
  },
  {
   "cell_type": "code",
   "execution_count": 51,
   "id": "42e35cca-742d-4e3d-b31b-b54cf46874db",
   "metadata": {},
   "outputs": [
    {
     "data": {
      "text/html": [
       "<div>\n",
       "<style scoped>\n",
       "    .dataframe tbody tr th:only-of-type {\n",
       "        vertical-align: middle;\n",
       "    }\n",
       "\n",
       "    .dataframe tbody tr th {\n",
       "        vertical-align: top;\n",
       "    }\n",
       "\n",
       "    .dataframe thead th {\n",
       "        text-align: right;\n",
       "    }\n",
       "</style>\n",
       "<table border=\"1\" class=\"dataframe\">\n",
       "  <thead>\n",
       "    <tr style=\"text-align: right;\">\n",
       "      <th></th>\n",
       "      <th>Rijeci</th>\n",
       "      <th>Leme</th>\n",
       "    </tr>\n",
       "  </thead>\n",
       "  <tbody>\n",
       "    <tr>\n",
       "      <th>23306</th>\n",
       "      <td>povezane</td>\n",
       "      <td>povezati</td>\n",
       "    </tr>\n",
       "    <tr>\n",
       "      <th>396041</th>\n",
       "      <td>bolje</td>\n",
       "      <td>dobro</td>\n",
       "    </tr>\n",
       "    <tr>\n",
       "      <th>49682</th>\n",
       "      <td>preko</td>\n",
       "      <td>preko</td>\n",
       "    </tr>\n",
       "    <tr>\n",
       "      <th>246823</th>\n",
       "      <td>crijeva</td>\n",
       "      <td>crijevo</td>\n",
       "    </tr>\n",
       "    <tr>\n",
       "      <th>428560</th>\n",
       "      <td>vremena</td>\n",
       "      <td>vrijeme</td>\n",
       "    </tr>\n",
       "    <tr>\n",
       "      <th>...</th>\n",
       "      <td>...</td>\n",
       "      <td>...</td>\n",
       "    </tr>\n",
       "    <tr>\n",
       "      <th>76674</th>\n",
       "      <td>su</td>\n",
       "      <td>biti</td>\n",
       "    </tr>\n",
       "    <tr>\n",
       "      <th>312403</th>\n",
       "      <td>šećera</td>\n",
       "      <td>šećer</td>\n",
       "    </tr>\n",
       "    <tr>\n",
       "      <th>379931</th>\n",
       "      <td>lagani</td>\n",
       "      <td>lagan</td>\n",
       "    </tr>\n",
       "    <tr>\n",
       "      <th>194427</th>\n",
       "      <td>o</td>\n",
       "      <td>o</td>\n",
       "    </tr>\n",
       "    <tr>\n",
       "      <th>271741</th>\n",
       "      <td>kartaške</td>\n",
       "      <td>kartaški</td>\n",
       "    </tr>\n",
       "  </tbody>\n",
       "</table>\n",
       "<p>52851 rows × 2 columns</p>\n",
       "</div>"
      ],
      "text/plain": [
       "          Rijeci      Leme\n",
       "23306   povezane  povezati\n",
       "396041     bolje     dobro\n",
       "49682      preko     preko\n",
       "246823   crijeva   crijevo\n",
       "428560   vremena   vrijeme\n",
       "...          ...       ...\n",
       "76674         su      biti\n",
       "312403    šećera     šećer\n",
       "379931    lagani     lagan\n",
       "194427         o         o\n",
       "271741  kartaške  kartaški\n",
       "\n",
       "[52851 rows x 2 columns]"
      ]
     },
     "execution_count": 51,
     "metadata": {},
     "output_type": "execute_result"
    }
   ],
   "source": [
    "test_dataset"
   ]
  },
  {
   "cell_type": "code",
   "execution_count": 52,
   "id": "eafdff24-9355-4cfb-89dc-66e3064da145",
   "metadata": {},
   "outputs": [
    {
     "data": {
      "text/html": [
       "<div>\n",
       "<style scoped>\n",
       "    .dataframe tbody tr th:only-of-type {\n",
       "        vertical-align: middle;\n",
       "    }\n",
       "\n",
       "    .dataframe tbody tr th {\n",
       "        vertical-align: top;\n",
       "    }\n",
       "\n",
       "    .dataframe thead th {\n",
       "        text-align: right;\n",
       "    }\n",
       "</style>\n",
       "<table border=\"1\" class=\"dataframe\">\n",
       "  <thead>\n",
       "    <tr style=\"text-align: right;\">\n",
       "      <th></th>\n",
       "      <th>Rijeci</th>\n",
       "      <th>Leme</th>\n",
       "    </tr>\n",
       "  </thead>\n",
       "  <tbody>\n",
       "    <tr>\n",
       "      <th>378084</th>\n",
       "      <td>producent</td>\n",
       "      <td>producent</td>\n",
       "    </tr>\n",
       "    <tr>\n",
       "      <th>240173</th>\n",
       "      <td>modernih</td>\n",
       "      <td>moderan</td>\n",
       "    </tr>\n",
       "    <tr>\n",
       "      <th>127401</th>\n",
       "      <td>će</td>\n",
       "      <td>htjeti</td>\n",
       "    </tr>\n",
       "    <tr>\n",
       "      <th>182087</th>\n",
       "      <td>dužnosti</td>\n",
       "      <td>dužnost</td>\n",
       "    </tr>\n",
       "    <tr>\n",
       "      <th>144786</th>\n",
       "      <td>završiti</td>\n",
       "      <td>završiti</td>\n",
       "    </tr>\n",
       "    <tr>\n",
       "      <th>...</th>\n",
       "      <td>...</td>\n",
       "      <td>...</td>\n",
       "    </tr>\n",
       "    <tr>\n",
       "      <th>425007</th>\n",
       "      <td>spustio</td>\n",
       "      <td>spustiti</td>\n",
       "    </tr>\n",
       "    <tr>\n",
       "      <th>21009</th>\n",
       "      <td>lista</td>\n",
       "      <td>lista</td>\n",
       "    </tr>\n",
       "    <tr>\n",
       "      <th>423598</th>\n",
       "      <td>zakona</td>\n",
       "      <td>zakon</td>\n",
       "    </tr>\n",
       "    <tr>\n",
       "      <th>35365</th>\n",
       "      <td>za</td>\n",
       "      <td>za</td>\n",
       "    </tr>\n",
       "    <tr>\n",
       "      <th>210052</th>\n",
       "      <td>pokrajca</td>\n",
       "      <td>pokrajc</td>\n",
       "    </tr>\n",
       "  </tbody>\n",
       "</table>\n",
       "<p>52851 rows × 2 columns</p>\n",
       "</div>"
      ],
      "text/plain": [
       "           Rijeci       Leme\n",
       "378084  producent  producent\n",
       "240173   modernih    moderan\n",
       "127401         će     htjeti\n",
       "182087   dužnosti    dužnost\n",
       "144786   završiti   završiti\n",
       "...           ...        ...\n",
       "425007    spustio   spustiti\n",
       "21009       lista      lista\n",
       "423598     zakona      zakon\n",
       "35365          za         za\n",
       "210052   pokrajca    pokrajc\n",
       "\n",
       "[52851 rows x 2 columns]"
      ]
     },
     "execution_count": 52,
     "metadata": {},
     "output_type": "execute_result"
    }
   ],
   "source": [
    "val_dataset"
   ]
  },
  {
   "cell_type": "code",
   "execution_count": 56,
   "id": "8fcc6732-ff38-454b-bba5-49b561adc84d",
   "metadata": {},
   "outputs": [],
   "source": [
    "train_dataset.to_csv('train_dataset.csv', index=False)\n",
    "test_dataset.to_csv('test_dataset.csv', index=False)\n",
    "val_dataset.to_csv('val_dataset.csv', index=False)"
   ]
  }
 ],
 "metadata": {
  "kernelspec": {
   "display_name": "Python 3 (ipykernel)",
   "language": "python",
   "name": "python3"
  },
  "language_info": {
   "codemirror_mode": {
    "name": "ipython",
    "version": 3
   },
   "file_extension": ".py",
   "mimetype": "text/x-python",
   "name": "python",
   "nbconvert_exporter": "python",
   "pygments_lexer": "ipython3",
   "version": "3.11.0"
  }
 },
 "nbformat": 4,
 "nbformat_minor": 5
}
